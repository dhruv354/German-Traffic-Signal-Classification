{
 "cells": [
  {
   "cell_type": "code",
   "execution_count": 1,
   "id": "published-blake",
   "metadata": {
    "_cell_guid": "b1076dfc-b9ad-4769-8c92-a6c4dae69d19",
    "_uuid": "8f2839f25d086af736a60e9eeb907d3b93b6e0e5",
    "execution": {
     "iopub.execute_input": "2021-05-26T15:28:38.405024Z",
     "iopub.status.busy": "2021-05-26T15:28:38.404293Z",
     "iopub.status.idle": "2021-05-26T15:29:41.432469Z",
     "shell.execute_reply": "2021-05-26T15:29:41.431329Z",
     "shell.execute_reply.started": "2021-05-26T14:52:59.040271Z"
    },
    "papermill": {
     "duration": 63.061323,
     "end_time": "2021-05-26T15:29:41.432701",
     "exception": false,
     "start_time": "2021-05-26T15:28:38.371378",
     "status": "completed"
    },
    "tags": []
   },
   "outputs": [],
   "source": [
    "# This Python 3 environment comes with many helpful analytics libraries installed\n",
    "# It is defined by the kaggle/python Docker image: https://github.com/kaggle/docker-python\n",
    "# For example, here's several helpful packages to load\n",
    "\n",
    "import numpy as np # linear algebra\n",
    "import pandas as pd # data processing, CSV file I/O (e.g. pd.read_csv)\n",
    "\n",
    "# Input data files are available in the read-only \"../input/\" directory\n",
    "# For example, running this (by clicking run or pressing Shift+Enter) will list all files under the input directory\n",
    "\n",
    "import os\n",
    "for dirname, _, filenames in os.walk('/kaggle/input'):\n",
    "    for filename in filenames:\n",
    "        pass\n",
    "#         print(os.path.join(dirname, filename))\n",
    "# here i am commenting this part as it is very huge list\n",
    "        \n",
    "\n"
   ]
  },
  {
   "cell_type": "code",
   "execution_count": 2,
   "id": "linear-albania",
   "metadata": {
    "execution": {
     "iopub.execute_input": "2021-05-26T15:29:41.475986Z",
     "iopub.status.busy": "2021-05-26T15:29:41.474868Z",
     "iopub.status.idle": "2021-05-26T15:29:41.484173Z",
     "shell.execute_reply": "2021-05-26T15:29:41.484774Z",
     "shell.execute_reply.started": "2021-05-26T14:54:16.286523Z"
    },
    "papermill": {
     "duration": 0.034233,
     "end_time": "2021-05-26T15:29:41.485071",
     "exception": false,
     "start_time": "2021-05-26T15:29:41.450838",
     "status": "completed"
    },
    "tags": []
   },
   "outputs": [
    {
     "data": {
      "text/plain": [
       "['Meta',\n",
       " 'meta',\n",
       " 'Meta.csv',\n",
       " 'Train.csv',\n",
       " 'Test.csv',\n",
       " 'Test',\n",
       " 'test',\n",
       " 'Train',\n",
       " 'train']"
      ]
     },
     "execution_count": 2,
     "metadata": {},
     "output_type": "execute_result"
    }
   ],
   "source": [
    "# ! pwd\n",
    "import os\n",
    "dataset_dir = '/kaggle/input/gtsrb-german-traffic-sign'\n",
    "os.listdir(dataset_dir)"
   ]
  },
  {
   "cell_type": "code",
   "execution_count": 3,
   "id": "known-guinea",
   "metadata": {
    "execution": {
     "iopub.execute_input": "2021-05-26T15:29:41.529000Z",
     "iopub.status.busy": "2021-05-26T15:29:41.528159Z",
     "iopub.status.idle": "2021-05-26T15:29:48.947537Z",
     "shell.execute_reply": "2021-05-26T15:29:48.946535Z",
     "shell.execute_reply.started": "2021-05-26T14:54:16.299641Z"
    },
    "papermill": {
     "duration": 7.443848,
     "end_time": "2021-05-26T15:29:48.947724",
     "exception": false,
     "start_time": "2021-05-26T15:29:41.503876",
     "status": "completed"
    },
    "tags": []
   },
   "outputs": [],
   "source": [
    "#useful libraries imports\n",
    "import numpy as np \n",
    "import pandas as pd \n",
    "import matplotlib.pyplot as plt\n",
    "import cv2\n",
    "import tensorflow as tf\n",
    "from sklearn.model_selection import train_test_split\n",
    "from keras.utils import to_categorical\n",
    "from keras.models import Sequential, load_model\n",
    "from keras.layers import Conv2D, MaxPooling2D, Dense, Flatten, Dropout"
   ]
  },
  {
   "cell_type": "code",
   "execution_count": 4,
   "id": "diagnostic-ultimate",
   "metadata": {
    "execution": {
     "iopub.execute_input": "2021-05-26T15:29:48.991932Z",
     "iopub.status.busy": "2021-05-26T15:29:48.990607Z",
     "iopub.status.idle": "2021-05-26T15:29:48.994504Z",
     "shell.execute_reply": "2021-05-26T15:29:48.993880Z",
     "shell.execute_reply.started": "2021-05-26T14:54:22.038734Z"
    },
    "papermill": {
     "duration": 0.028035,
     "end_time": "2021-05-26T15:29:48.994655",
     "exception": false,
     "start_time": "2021-05-26T15:29:48.966620",
     "status": "completed"
    },
    "tags": []
   },
   "outputs": [],
   "source": [
    "Meta = os.path.join(dataset_dir, 'Meta')\n",
    "# os.listdir(Meta)\n",
    "#it contains number of classes of an image\n",
    "Test = os.path.join(dataset_dir, 'Test')\n",
    "# os.listdir(Test)[:10]\n",
    "#test contains the images for our work\n",
    "Train = os.path.join(dataset_dir, 'Train')\n"
   ]
  },
  {
   "cell_type": "code",
   "execution_count": 5,
   "id": "pressing-protein",
   "metadata": {
    "execution": {
     "iopub.execute_input": "2021-05-26T15:29:49.036895Z",
     "iopub.status.busy": "2021-05-26T15:29:49.036165Z",
     "iopub.status.idle": "2021-05-26T15:29:49.238230Z",
     "shell.execute_reply": "2021-05-26T15:29:49.237692Z",
     "shell.execute_reply.started": "2021-05-26T14:54:22.062003Z"
    },
    "papermill": {
     "duration": 0.22547,
     "end_time": "2021-05-26T15:29:49.238378",
     "exception": false,
     "start_time": "2021-05-26T15:29:49.012908",
     "status": "completed"
    },
    "tags": []
   },
   "outputs": [
    {
     "data": {
      "text/plain": [
       "(46, 44, 3)"
      ]
     },
     "execution_count": 5,
     "metadata": {},
     "output_type": "execute_result"
    },
    {
     "data": {
      "image/png": "[encoded data removed]",
      "text/plain": [
       "<Figure size 432x288 with 1 Axes>"
      ]
     },
     "metadata": {
      "needs_background": "light"
     },
     "output_type": "display_data"
    }
   ],
   "source": [
    "random_image = os.path.join(Train+'/7', os.listdir(Train+'/7')[0])\n",
    "img = plt.imread(random_image)\n",
    "plt.imshow(img)\n",
    "img.shape"
   ]
  },
  {
   "cell_type": "code",
   "execution_count": 6,
   "id": "lesbian-dressing",
   "metadata": {
    "execution": {
     "iopub.execute_input": "2021-05-26T15:29:49.282632Z",
     "iopub.status.busy": "2021-05-26T15:29:49.281926Z",
     "iopub.status.idle": "2021-05-26T15:29:49.289450Z",
     "shell.execute_reply": "2021-05-26T15:29:49.290002Z",
     "shell.execute_reply.started": "2021-05-26T15:00:22.242124Z"
    },
    "papermill": {
     "duration": 0.032566,
     "end_time": "2021-05-26T15:29:49.290217",
     "exception": false,
     "start_time": "2021-05-26T15:29:49.257651",
     "status": "completed"
    },
    "tags": []
   },
   "outputs": [
    {
     "data": {
      "text/plain": [
       "43"
      ]
     },
     "execution_count": 6,
     "metadata": {},
     "output_type": "execute_result"
    }
   ],
   "source": [
    "num_classes = len(os.listdir(Train))\n",
    "num_classes"
   ]
  },
  {
   "cell_type": "code",
   "execution_count": 7,
   "id": "fitted-reliance",
   "metadata": {
    "execution": {
     "iopub.execute_input": "2021-05-26T15:29:49.338012Z",
     "iopub.status.busy": "2021-05-26T15:29:49.337019Z",
     "iopub.status.idle": "2021-05-26T15:32:26.494143Z",
     "shell.execute_reply": "2021-05-26T15:32:26.493518Z",
     "shell.execute_reply.started": "2021-05-26T14:54:22.309254Z"
    },
    "papermill": {
     "duration": 157.184136,
     "end_time": "2021-05-26T15:32:26.494305",
     "exception": false,
     "start_time": "2021-05-26T15:29:49.310169",
     "status": "completed"
    },
    "tags": []
   },
   "outputs": [],
   "source": [
    "os.listdir(Train)\n",
    "#it contains images corresponding to a particular label\n",
    "# lets combine them all and its labels in a single array for easy access\n",
    "images = []\n",
    "labels = []\n",
    "for label in os.listdir(Train):\n",
    "    images_for_label = os.path.join(Train, label)\n",
    "    for image in os.listdir(images_for_label):\n",
    "        image = plt.imread(os.path.join(images_for_label, image))\n",
    "        image = cv2.resize(image, (32, 32))\n",
    "        images.append(image)\n",
    "        labels.append(label)\n",
    "\n"
   ]
  },
  {
   "cell_type": "code",
   "execution_count": 8,
   "id": "compact-functionality",
   "metadata": {
    "execution": {
     "iopub.execute_input": "2021-05-26T15:32:26.543576Z",
     "iopub.status.busy": "2021-05-26T15:32:26.542280Z",
     "iopub.status.idle": "2021-05-26T15:32:26.785011Z",
     "shell.execute_reply": "2021-05-26T15:32:26.785622Z",
     "shell.execute_reply.started": "2021-05-26T14:57:38.085772Z"
    },
    "papermill": {
     "duration": 0.270547,
     "end_time": "2021-05-26T15:32:26.785865",
     "exception": false,
     "start_time": "2021-05-26T15:32:26.515318",
     "status": "completed"
    },
    "tags": []
   },
   "outputs": [
    {
     "data": {
      "text/plain": [
       "(39209, 32, 32, 3)"
      ]
     },
     "execution_count": 8,
     "metadata": {},
     "output_type": "execute_result"
    }
   ],
   "source": [
    "images = np.array(images)\n",
    "labels = np.array(labels, dtype='int32')\n",
    "images.shape"
   ]
  },
  {
   "cell_type": "code",
   "execution_count": 9,
   "id": "applicable-paint",
   "metadata": {
    "execution": {
     "iopub.execute_input": "2021-05-26T15:32:26.832088Z",
     "iopub.status.busy": "2021-05-26T15:32:26.830929Z",
     "iopub.status.idle": "2021-05-26T15:32:26.836610Z",
     "shell.execute_reply": "2021-05-26T15:32:26.836051Z",
     "shell.execute_reply.started": "2021-05-26T14:57:38.294062Z"
    },
    "papermill": {
     "duration": 0.030763,
     "end_time": "2021-05-26T15:32:26.836767",
     "exception": false,
     "start_time": "2021-05-26T15:32:26.806004",
     "status": "completed"
    },
    "tags": []
   },
   "outputs": [
    {
     "data": {
      "text/plain": [
       "(39209,)"
      ]
     },
     "execution_count": 9,
     "metadata": {},
     "output_type": "execute_result"
    }
   ],
   "source": [
    "labels.shape"
   ]
  },
  {
   "cell_type": "code",
   "execution_count": 10,
   "id": "boring-price",
   "metadata": {
    "execution": {
     "iopub.execute_input": "2021-05-26T15:32:26.897381Z",
     "iopub.status.busy": "2021-05-26T15:32:26.896282Z",
     "iopub.status.idle": "2021-05-26T15:32:27.610511Z",
     "shell.execute_reply": "2021-05-26T15:32:27.609929Z",
     "shell.execute_reply.started": "2021-05-26T14:57:38.302015Z"
    },
    "papermill": {
     "duration": 0.752701,
     "end_time": "2021-05-26T15:32:27.610697",
     "exception": false,
     "start_time": "2021-05-26T15:32:26.857996",
     "status": "completed"
    },
    "tags": []
   },
   "outputs": [
    {
     "data": {
      "image/png": "[encoded data removed]",
      "text/plain": [
       "<Figure size 864x864 with 10 Axes>"
      ]
     },
     "metadata": {},
     "output_type": "display_data"
    }
   ],
   "source": [
    "#lets plot some of the images\n",
    "fig = plt.figure(figsize=(12, 12))\n",
    "for i in range(10):\n",
    "    random_num = np.random.randint(0, 39209)\n",
    "    ax = fig.add_subplot(2, 5, i+1)\n",
    "    plt.axis()\n",
    "    plt.xticks([])\n",
    "    plt.yticks([])\n",
    "    ax.set_xlabel(xlabel = labels[random_num], fontsize=15)\n",
    "    ax.imshow(images[random_num])"
   ]
  },
  {
   "cell_type": "code",
   "execution_count": 11,
   "id": "turkish-mustang",
   "metadata": {
    "execution": {
     "iopub.execute_input": "2021-05-26T15:32:27.663329Z",
     "iopub.status.busy": "2021-05-26T15:32:27.662533Z",
     "iopub.status.idle": "2021-05-26T15:32:27.894477Z",
     "shell.execute_reply": "2021-05-26T15:32:27.893185Z",
     "shell.execute_reply.started": "2021-05-26T15:02:30.594779Z"
    },
    "papermill": {
     "duration": 0.261647,
     "end_time": "2021-05-26T15:32:27.894630",
     "exception": false,
     "start_time": "2021-05-26T15:32:27.632983",
     "status": "completed"
    },
    "tags": []
   },
   "outputs": [],
   "source": [
    "#splitting training and validation data\n",
    "X_train, X_valid, y_train, y_valid = train_test_split(images, labels, random_state=0, stratify=labels, test_size=0.10)\n",
    "y_train = to_categorical(y_train)\n",
    "y_valid = to_categorical(y_valid)"
   ]
  },
  {
   "cell_type": "code",
   "execution_count": 12,
   "id": "united-purpose",
   "metadata": {
    "execution": {
     "iopub.execute_input": "2021-05-26T15:32:27.949609Z",
     "iopub.status.busy": "2021-05-26T15:32:27.948787Z",
     "iopub.status.idle": "2021-05-26T15:32:30.441011Z",
     "shell.execute_reply": "2021-05-26T15:32:30.442015Z",
     "shell.execute_reply.started": "2021-05-26T15:04:19.554658Z"
    },
    "papermill": {
     "duration": 2.524674,
     "end_time": "2021-05-26T15:32:30.442209",
     "exception": false,
     "start_time": "2021-05-26T15:32:27.917535",
     "status": "completed"
    },
    "tags": []
   },
   "outputs": [
    {
     "name": "stdout",
     "output_type": "stream",
     "text": [
      "Model: \"sequential\"\n",
      "_________________________________________________________________\n",
      "Layer (type)                 Output Shape              Param #   \n",
      "=================================================================\n",
      "conv2d (Conv2D)              (None, 32, 32, 32)        896       \n",
      "_________________________________________________________________\n",
      "max_pooling2d (MaxPooling2D) (None, 16, 16, 32)        0         \n",
      "_________________________________________________________________\n",
      "conv2d_1 (Conv2D)            (None, 16, 16, 64)        18496     \n",
      "_________________________________________________________________\n",
      "max_pooling2d_1 (MaxPooling2 (None, 8, 8, 64)          0         \n",
      "_________________________________________________________________\n",
      "conv2d_2 (Conv2D)            (None, 8, 8, 128)         73856     \n",
      "_________________________________________________________________\n",
      "max_pooling2d_2 (MaxPooling2 (None, 4, 4, 128)         0         \n",
      "_________________________________________________________________\n",
      "flatten (Flatten)            (None, 2048)              0         \n",
      "_________________________________________________________________\n",
      "dense (Dense)                (None, 1024)              2098176   \n",
      "_________________________________________________________________\n",
      "dropout (Dropout)            (None, 1024)              0         \n",
      "_________________________________________________________________\n",
      "dense_1 (Dense)              (None, 512)               524800    \n",
      "_________________________________________________________________\n",
      "dense_2 (Dense)              (None, 43)                22059     \n",
      "=================================================================\n",
      "Total params: 2,738,283\n",
      "Trainable params: 2,738,283\n",
      "Non-trainable params: 0\n",
      "_________________________________________________________________\n"
     ]
    }
   ],
   "source": [
    "#lets plot our model architecture\n",
    "model = Sequential()\n",
    "#Convolution and Maxpooling layers for feature extraction\n",
    "model.add(Conv2D(32, (3, 3), padding='same', input_shape=(32, 32, 3), activation='relu'))\n",
    "model.add(MaxPooling2D((2, 2)))\n",
    "model.add(Conv2D(64, (3, 3), padding='same', activation='relu'))\n",
    "model.add(MaxPooling2D((2, 2)))\n",
    "model.add(Conv2D(128, (3, 3), padding='same', activation='relu'))\n",
    "model.add(MaxPooling2D((2, 2)))\n",
    "\n",
    "#Densely connected network\n",
    "model.add(Flatten())\n",
    "model.add(Dense(1024, activation='relu'))\n",
    "model.add(Dropout(0.3))\n",
    "model.add(Dense(512, activation='relu'))\n",
    "model.add(Dense(num_classes, activation='softmax'))\n",
    "\n",
    "model.summary()"
   ]
  },
  {
   "cell_type": "code",
   "execution_count": 13,
   "id": "injured-arbitration",
   "metadata": {
    "execution": {
     "iopub.execute_input": "2021-05-26T15:32:30.494654Z",
     "iopub.status.busy": "2021-05-26T15:32:30.493610Z",
     "iopub.status.idle": "2021-05-26T15:32:31.491897Z",
     "shell.execute_reply": "2021-05-26T15:32:31.490926Z",
     "shell.execute_reply.started": "2021-05-26T14:57:40.889611Z"
    },
    "papermill": {
     "duration": 1.029883,
     "end_time": "2021-05-26T15:32:31.496088",
     "exception": false,
     "start_time": "2021-05-26T15:32:30.466205",
     "status": "completed"
    },
    "tags": []
   },
   "outputs": [
    {
     "name": "stdout",
     "output_type": "stream",
     "text": [
      "/kaggle/working\r\n"
     ]
    }
   ],
   "source": [
    "!pwd"
   ]
  },
  {
   "cell_type": "code",
   "execution_count": 14,
   "id": "signed-scratch",
   "metadata": {
    "execution": {
     "iopub.execute_input": "2021-05-26T15:32:31.559841Z",
     "iopub.status.busy": "2021-05-26T15:32:31.558727Z",
     "iopub.status.idle": "2021-05-26T15:32:31.562555Z",
     "shell.execute_reply": "2021-05-26T15:32:31.562007Z",
     "shell.execute_reply.started": "2021-05-26T15:04:23.724222Z"
    },
    "papermill": {
     "duration": 0.033745,
     "end_time": "2021-05-26T15:32:31.562722",
     "exception": false,
     "start_time": "2021-05-26T15:32:31.528977",
     "status": "completed"
    },
    "tags": []
   },
   "outputs": [],
   "source": [
    "modelCheckpoint = tf.keras.callbacks.ModelCheckpoint(\n",
    "    filepath=\"/kaggle/working/logs\",\n",
    "    monitor='val_acc',\n",
    "    verbose=0,\n",
    "    save_best_only=True\n",
    ")"
   ]
  },
  {
   "cell_type": "code",
   "execution_count": 15,
   "id": "convenient-passenger",
   "metadata": {
    "execution": {
     "iopub.execute_input": "2021-05-26T15:32:31.628610Z",
     "iopub.status.busy": "2021-05-26T15:32:31.627449Z",
     "iopub.status.idle": "2021-05-26T15:34:06.801057Z",
     "shell.execute_reply": "2021-05-26T15:34:06.800465Z",
     "shell.execute_reply.started": "2021-05-26T15:04:28.115613Z"
    },
    "papermill": {
     "duration": 95.214886,
     "end_time": "2021-05-26T15:34:06.801230",
     "exception": false,
     "start_time": "2021-05-26T15:32:31.586344",
     "status": "completed"
    },
    "tags": []
   },
   "outputs": [
    {
     "name": "stdout",
     "output_type": "stream",
     "text": [
      "Epoch 1/10\n",
      "1103/1103 [==============================] - 15s 9ms/step - loss: 2.0141 - accuracy: 0.4234 - val_loss: 0.1311 - val_accuracy: 0.9612\n",
      "Epoch 2/10\n",
      "1103/1103 [==============================] - 10s 9ms/step - loss: 0.1442 - accuracy: 0.9571 - val_loss: 0.0375 - val_accuracy: 0.9878\n",
      "Epoch 3/10\n",
      "1103/1103 [==============================] - 9s 8ms/step - loss: 0.0556 - accuracy: 0.9826 - val_loss: 0.0324 - val_accuracy: 0.9898\n",
      "Epoch 4/10\n",
      "1103/1103 [==============================] - 8s 8ms/step - loss: 0.0417 - accuracy: 0.9871 - val_loss: 0.0333 - val_accuracy: 0.9893\n",
      "Epoch 5/10\n",
      "1103/1103 [==============================] - 9s 8ms/step - loss: 0.0341 - accuracy: 0.9907 - val_loss: 0.0459 - val_accuracy: 0.9860\n",
      "Epoch 6/10\n",
      "1103/1103 [==============================] - 9s 8ms/step - loss: 0.0362 - accuracy: 0.9899 - val_loss: 0.0322 - val_accuracy: 0.9911\n",
      "Epoch 7/10\n",
      "1103/1103 [==============================] - 9s 8ms/step - loss: 0.0255 - accuracy: 0.9933 - val_loss: 0.0551 - val_accuracy: 0.9842\n",
      "Epoch 8/10\n",
      "1103/1103 [==============================] - 8s 8ms/step - loss: 0.0327 - accuracy: 0.9910 - val_loss: 0.0226 - val_accuracy: 0.9923\n",
      "Epoch 9/10\n",
      "1103/1103 [==============================] - 8s 8ms/step - loss: 0.0238 - accuracy: 0.9943 - val_loss: 0.0263 - val_accuracy: 0.9929\n",
      "Epoch 10/10\n",
      "1103/1103 [==============================] - 9s 8ms/step - loss: 0.0307 - accuracy: 0.9918 - val_loss: 0.0401 - val_accuracy: 0.9895\n"
     ]
    }
   ],
   "source": [
    "#compiling and training model\n",
    "model.compile(optimizer='adam', loss='categorical_crossentropy', metrics=['accuracy'])\n",
    "\n",
    "history = model.fit(\n",
    "    x=X_train,\n",
    "    y=y_train,\n",
    "    batch_size=32,\n",
    "    callbacks=[modelCheckpoint],\n",
    "    validation_data=(X_valid, y_valid),\n",
    "    epochs=10\n",
    ")"
   ]
  },
  {
   "cell_type": "code",
   "execution_count": 16,
   "id": "common-improvement",
   "metadata": {
    "execution": {
     "iopub.execute_input": "2021-05-26T15:34:07.913447Z",
     "iopub.status.busy": "2021-05-26T15:34:07.912273Z",
     "iopub.status.idle": "2021-05-26T15:34:08.257245Z",
     "shell.execute_reply": "2021-05-26T15:34:08.257798Z",
     "shell.execute_reply.started": "2021-05-26T15:12:43.323694Z"
    },
    "papermill": {
     "duration": 0.926451,
     "end_time": "2021-05-26T15:34:08.257982",
     "exception": false,
     "start_time": "2021-05-26T15:34:07.331531",
     "status": "completed"
    },
    "tags": []
   },
   "outputs": [
    {
     "data": {
      "text/plain": [
       "<matplotlib.legend.Legend at 0x7f59801f89d0>"
      ]
     },
     "execution_count": 16,
     "metadata": {},
     "output_type": "execute_result"
    },
    {
     "data": {
      "image/png": "[encoded data removed]",
      "text/plain": [
       "<Figure size 432x288 with 1 Axes>"
      ]
     },
     "metadata": {
      "needs_background": "light"
     },
     "output_type": "display_data"
    },
    {
     "data": {
      "image/png": "[encoded data removed]",
      "text/plain": [
       "<Figure size 432x288 with 1 Axes>"
      ]
     },
     "metadata": {
      "needs_background": "light"
     },
     "output_type": "display_data"
    }
   ],
   "source": [
    "plt.figure(0)\n",
    "plt.plot(history.history['accuracy'], label='training_acc')\n",
    "plt.plot(history.history['val_accuracy'], label='val_acc')\n",
    "plt.title('Accuracy', fontsize=20)\n",
    "plt.xlabel('epochs', fontsize=15)\n",
    "plt.ylabel('accuracy', fontsize=15)\n",
    "plt.legend()\n",
    "\n",
    "plt.figure(1)\n",
    "plt.plot(history.history['loss'], label='training loss')\n",
    "plt.plot(history.history['val_loss'], label='val loss')\n",
    "plt.title('Loss', fontsize=20)\n",
    "plt.xlabel('epochs', fontsize=15)\n",
    "plt.ylabel('loss', fontsize=15)\n",
    "plt.legend()\n"
   ]
  },
  {
   "cell_type": "code",
   "execution_count": 17,
   "id": "residential-chance",
   "metadata": {
    "execution": {
     "iopub.execute_input": "2021-05-26T15:34:09.346456Z",
     "iopub.status.busy": "2021-05-26T15:34:09.345784Z",
     "iopub.status.idle": "2021-05-26T15:35:11.476657Z",
     "shell.execute_reply": "2021-05-26T15:35:11.476068Z",
     "shell.execute_reply.started": "2021-05-26T15:18:14.268654Z"
    },
    "papermill": {
     "duration": 62.68277,
     "end_time": "2021-05-26T15:35:11.476855",
     "exception": false,
     "start_time": "2021-05-26T15:34:08.794085",
     "status": "completed"
    },
    "tags": []
   },
   "outputs": [],
   "source": [
    "#Evaluating our results\n",
    "df = pd.read_csv(os.path.join(dataset_dir, 'Test.csv'))\n",
    "df.head()\n",
    "#here classId referes to the label and path as image\n",
    "test_images = []\n",
    "test_labels = []\n",
    "\n",
    "for i in range(df.shape[0]):\n",
    "    label = df.ClassId[i]\n",
    "    image_path_test = df.Path[i]\n",
    "    image_path = os.path.join(dataset_dir, image_path_test)\n",
    "    image = plt.imread(image_path)\n",
    "    image = cv2.resize(image, (32, 32))\n",
    "    test_images.append(image)\n",
    "    test_labels.append(label)\n"
   ]
  },
  {
   "cell_type": "code",
   "execution_count": 18,
   "id": "mobile-begin",
   "metadata": {
    "execution": {
     "iopub.execute_input": "2021-05-26T15:35:12.562870Z",
     "iopub.status.busy": "2021-05-26T15:35:12.561492Z",
     "iopub.status.idle": "2021-05-26T15:35:12.642938Z",
     "shell.execute_reply": "2021-05-26T15:35:12.642306Z",
     "shell.execute_reply.started": "2021-05-26T15:20:30.908556Z"
    },
    "papermill": {
     "duration": 0.629835,
     "end_time": "2021-05-26T15:35:12.643095",
     "exception": false,
     "start_time": "2021-05-26T15:35:12.013260",
     "status": "completed"
    },
    "tags": []
   },
   "outputs": [],
   "source": [
    "test_images = np.array(test_images)\n",
    "test_labels = to_categorical(np.array(test_labels))"
   ]
  },
  {
   "cell_type": "code",
   "execution_count": 19,
   "id": "professional-mixture",
   "metadata": {
    "execution": {
     "iopub.execute_input": "2021-05-26T15:35:13.771102Z",
     "iopub.status.busy": "2021-05-26T15:35:13.769856Z",
     "iopub.status.idle": "2021-05-26T15:35:16.551118Z",
     "shell.execute_reply": "2021-05-26T15:35:16.550334Z",
     "shell.execute_reply.started": "2021-05-26T15:22:11.353400Z"
    },
    "papermill": {
     "duration": 3.366783,
     "end_time": "2021-05-26T15:35:16.551279",
     "exception": false,
     "start_time": "2021-05-26T15:35:13.184496",
     "status": "completed"
    },
    "tags": []
   },
   "outputs": [
    {
     "name": "stdout",
     "output_type": "stream",
     "text": [
      "395/395 [==============================] - 3s 6ms/step - loss: 0.2445 - accuracy: 0.9510\n"
     ]
    }
   ],
   "source": [
    "model.evaluate(test_images, test_labels)\n",
    "model.save('traffic_signal_classifier.h5')"
   ]
  }
 ],
 "metadata": {
  "kernelspec": {
   "display_name": "Python 3",
   "language": "python",
   "name": "python3"
  },
  "language_info": {
   "codemirror_mode": {
    "name": "ipython",
    "version": 3
   },
   "file_extension": ".py",
   "mimetype": "text/x-python",
   "name": "python",
   "nbconvert_exporter": "python",
   "pygments_lexer": "ipython3",
   "version": "3.7.10"
  },
  "papermill": {
   "default_parameters": {},
   "duration": 410.017608,
   "end_time": "2021-05-26T15:35:20.076600",
   "environment_variables": {},
   "exception": null,
   "input_path": "__notebook__.ipynb",
   "output_path": "__notebook__.ipynb",
   "parameters": {},
   "start_time": "2021-05-26T15:28:30.058992",
   "version": "2.3.3"
  }
 },
 "nbformat": 4,
 "nbformat_minor": 5
}
